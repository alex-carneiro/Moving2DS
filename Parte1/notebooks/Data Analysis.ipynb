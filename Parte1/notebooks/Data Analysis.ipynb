{
 "cells": [
  {
   "cell_type": "markdown",
   "metadata": {},
   "source": [
    "# Iris dataset data analysis\n",
    "\n",
    "**Author:** Alex Carneiro\n",
    "\n",
    "**Course:** Moving2DS - Part 1"
   ]
  },
  {
   "cell_type": "code",
   "execution_count": null,
   "metadata": {},
   "outputs": [],
   "source": [
    "# importing libraries\n",
    "\n",
    "import pandas as pd\n",
    "import numpy as np\n",
    "\n",
    "from matplotlib.lines import Line2D\n",
    "import matplotlib.pyplot as plt\n",
    "%matplotlib inline"
   ]
  },
  {
   "cell_type": "markdown",
   "metadata": {},
   "source": [
    "## Data reading and checking"
   ]
  },
  {
   "cell_type": "code",
   "execution_count": null,
   "metadata": {},
   "outputs": [],
   "source": [
    "dataset = pd.read_csv(\"../data/iris.data\", header=None)\n",
    "dataset.columns = [\"sepal_l\", \"sepal_w\",\n",
    "                   \"petal_l\", \"petal_w\",\n",
    "                   \"class\"]\n",
    "\n",
    "print(\"Read %d samples from the dataset\"%len(dataset))\n",
    "dataset.sample(5)"
   ]
  },
  {
   "cell_type": "code",
   "execution_count": null,
   "metadata": {},
   "outputs": [],
   "source": [
    "print(dataset['class'].describe())"
   ]
  },
  {
   "cell_type": "code",
   "execution_count": null,
   "metadata": {},
   "outputs": [],
   "source": [
    "for c in dataset['class'].unique():\n",
    "    print(\"Class\", c, \"has\", (dataset['class'] == c).sum(), \"samples\")"
   ]
  },
  {
   "cell_type": "code",
   "execution_count": null,
   "metadata": {},
   "outputs": [],
   "source": [
    "columns = [\"sepal_l\", \"sepal_w\",\n",
    "           \"petal_l\", \"petal_w\",\n",
    "           \"class\"]\n",
    "\n",
    "for c in columns:\n",
    "    print(\"Data type of column\", c, \"is\", dataset[c].dtype)"
   ]
  },
  {
   "cell_type": "code",
   "execution_count": null,
   "metadata": {},
   "outputs": [],
   "source": [
    "any_null = []\n",
    "\n",
    "for col in columns:\n",
    "    any_null.append(any(dataset[col].isnull()))\n",
    "\n",
    "if any(any_null):\n",
    "    print(\"Those columns have NULL values:\",\n",
    "          [c for c, n in zip(columns, any_null) if n is True])\n",
    "else:\n",
    "    print(\"There are no NULL values\")"
   ]
  },
  {
   "cell_type": "markdown",
   "metadata": {},
   "source": [
    "## Data visualization"
   ]
  },
  {
   "cell_type": "code",
   "execution_count": null,
   "metadata": {},
   "outputs": [],
   "source": [
    "# sorted names of the classes as list of strings\n",
    "cls = sorted(list(dataset['class'].unique()))\n",
    "# lambda function that maps the strings to int values\n",
    "convert = lambda i: cls.index(i)\n",
    "\n",
    "# separate each dataset column into a variable\n",
    "data_sepal_l = dataset['sepal_l'].values\n",
    "data_sepal_w = dataset['sepal_w'].values\n",
    "data_petal_l = dataset['petal_l'].values\n",
    "data_petal_w = dataset['petal_w'].values\n",
    "data_class = dataset['class'].values\n",
    "data_class_int = dataset['class'].map(convert).values\n",
    "\n",
    "cmap = plt.cm.get_cmap('Set1')\n",
    "legend_elements = [Line2D([0], [0],\n",
    "                          marker='o',\n",
    "                          color=cmap(i/(len(cls)-1)),\n",
    "                          label=c) for i, c in enumerate(cls)]\n",
    "\n",
    "plt.figure(figsize=(15,10))\n",
    "plt.subplot(2,3,1)\n",
    "plt.xlabel(\"sepal_l\")\n",
    "plt.ylabel(\"sepal_w\")\n",
    "plt.scatter(data_sepal_l, data_sepal_w, c=data_class_int, cmap=cmap);\n",
    "plt.legend(handles=legend_elements, loc=1);\n",
    "\n",
    "plt.subplot(2,3,2)\n",
    "plt.xlabel(\"sepal_l\")\n",
    "plt.ylabel(\"petal_l\")\n",
    "plt.scatter(data_sepal_l, data_petal_l, c=data_class_int, cmap=cmap);\n",
    "plt.legend(handles=legend_elements, loc=2);\n",
    "\n",
    "plt.subplot(2,3,3)\n",
    "plt.xlabel(\"sepal_l\")\n",
    "plt.ylabel(\"petal_w\")\n",
    "plt.scatter(data_sepal_l, data_petal_w, c=data_class_int, cmap=cmap);\n",
    "plt.legend(handles=legend_elements, loc=2);\n",
    "\n",
    "plt.subplot(2,3,4)\n",
    "plt.xlabel(\"sepal_w\")\n",
    "plt.ylabel(\"petal_l\")\n",
    "plt.scatter(data_sepal_w, data_petal_l, c=data_class_int, cmap=cmap);\n",
    "plt.legend(handles=legend_elements, loc=5);\n",
    "\n",
    "plt.subplot(2,3,5)\n",
    "plt.xlabel(\"sepal_w\")\n",
    "plt.ylabel(\"petal_w\")\n",
    "plt.scatter(data_sepal_w, data_petal_w, c=data_class_int, cmap=cmap);\n",
    "plt.legend(handles=legend_elements, loc=5);\n",
    "\n",
    "plt.subplot(2,3,6)\n",
    "plt.xlabel(\"petal_l\")\n",
    "plt.ylabel(\"petal_w\")\n",
    "plt.scatter(data_petal_l, data_petal_w, c=data_class_int, cmap=cmap);\n",
    "plt.legend(handles=legend_elements, loc=2);\n",
    "plt.tight_layout();"
   ]
  },
  {
   "cell_type": "markdown",
   "metadata": {},
   "source": [
    "## Some statistics"
   ]
  },
  {
   "cell_type": "code",
   "execution_count": null,
   "metadata": {},
   "outputs": [],
   "source": [
    "dataset_setosa = dataset[dataset['class'] == 'Iris-setosa']\n",
    "dataset_versicolor = dataset[dataset['class'] == 'Iris-versicolor']\n",
    "dataset_virginica = dataset[dataset['class'] == 'Iris-virginica']"
   ]
  },
  {
   "cell_type": "code",
   "execution_count": null,
   "metadata": {},
   "outputs": [],
   "source": [
    "columns = [\"sepal_l\", \"sepal_w\", \"petal_l\", \"petal_w\"]\n",
    "\n",
    "print(\"Mean and variance for class 'Iris-setosa'\")\n",
    "for c in columns:\n",
    "    mean = np.mean(dataset_setosa[c])\n",
    "    var = np.var(dataset_setosa[c], ddof=1)\n",
    "    \n",
    "    print(\"Column:\", c)\n",
    "    print(\"Mean value =\", mean)\n",
    "    print(\"Variance value =\", var)\n",
    "\n",
    "print()\n",
    "print(\"Mean and variance for class 'Iris-versicolor'\")\n",
    "for c in columns:\n",
    "    mean = np.mean(dataset_versicolor[c])\n",
    "    var = np.var(dataset_versicolor[c], ddof=1)\n",
    "    \n",
    "    print(\"Column:\", c)\n",
    "    print(\"Mean value =\", mean)\n",
    "    print(\"Variance value =\", var)\n",
    "    \n",
    "print()\n",
    "print(\"Mean and variance for class 'Iris-virginica'\")\n",
    "for c in columns:\n",
    "    mean = np.mean(dataset_virginica[c])\n",
    "    var = np.var(dataset_virginica[c], ddof=1)\n",
    "    \n",
    "    print(\"Column:\", c)\n",
    "    print(\"Mean value =\", mean)\n",
    "    print(\"Variance value =\", var)"
   ]
  },
  {
   "cell_type": "code",
   "execution_count": null,
   "metadata": {},
   "outputs": [],
   "source": [
    "print(dataset_setosa.describe())"
   ]
  },
  {
   "cell_type": "code",
   "execution_count": null,
   "metadata": {},
   "outputs": [],
   "source": [
    "print(dataset_versicolor.describe())"
   ]
  },
  {
   "cell_type": "code",
   "execution_count": null,
   "metadata": {},
   "outputs": [],
   "source": [
    "print(dataset_virginica.describe())"
   ]
  },
  {
   "cell_type": "code",
   "execution_count": null,
   "metadata": {},
   "outputs": [],
   "source": []
  }
 ],
 "metadata": {
  "kernelspec": {
   "display_name": "Python 3",
   "language": "python",
   "name": "python3"
  },
  "language_info": {
   "codemirror_mode": {
    "name": "ipython",
    "version": 3
   },
   "file_extension": ".py",
   "mimetype": "text/x-python",
   "name": "python",
   "nbconvert_exporter": "python",
   "pygments_lexer": "ipython3",
   "version": "3.6.8"
  }
 },
 "nbformat": 4,
 "nbformat_minor": 2
}
